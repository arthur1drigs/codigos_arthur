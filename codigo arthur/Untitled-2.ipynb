{
 "cells": [
  {
   "cell_type": "markdown",
   "id": "1d6524d9",
   "metadata": {},
   "source": [
    "### minha playlist"
   ]
  },
  {
   "cell_type": "code",
   "execution_count": 7,
   "id": "c631a1ba",
   "metadata": {},
   "outputs": [
    {
     "name": "stdout",
     "output_type": "stream",
     "text": [
      "falling down\n"
     ]
    }
   ],
   "source": [
    "minha_playlist = [\"falling down\",\"tosie slide\",\"god's plan\"]\n",
    "print (minha_playlist[0])"
   ]
  }
 ],
 "metadata": {
  "kernelspec": {
   "display_name": "Python 3",
   "language": "python",
   "name": "python3"
  },
  "language_info": {
   "codemirror_mode": {
    "name": "ipython",
    "version": 3
   },
   "file_extension": ".py",
   "mimetype": "text/x-python",
   "name": "python",
   "nbconvert_exporter": "python",
   "pygments_lexer": "ipython3",
   "version": "3.13.2"
  }
 },
 "nbformat": 4,
 "nbformat_minor": 5
}
