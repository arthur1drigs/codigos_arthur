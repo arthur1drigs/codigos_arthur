{
 "cells": [
  {
   "cell_type": "markdown",
   "id": "4f7a1d42",
   "metadata": {},
   "source": [
    "### Jogo de advinhação\n",
    "\n",
    "Vamos criar um jogo que advinha o número que o usuário digitou!!\n"
   ]
  },
  {
   "cell_type": "code",
   "execution_count": 3,
   "id": "5fa02260",
   "metadata": {},
   "outputs": [
    {
     "name": "stdout",
     "output_type": "stream",
     "text": [
      "Jogo de advinhação!!! Boa Sorte!!\n",
      "------------------------------------\n",
      "eu acredito que voce digitou:34.0\n"
     ]
    }
   ],
   "source": [
    "print(\"Jogo de advinhação!!! Boa Sorte!!\")\n",
    "print(\"------------------------------------\")\n",
    "## o número deve ser float, pois deve aceitar tanto números inteiros, quanto número\n",
    "numero_usuario = float(input(\"digete o numero\"))\n",
    "print(f\"eu acredito que voce digitou:{numero_usuario}\") "
   ]
  },
  {
   "cell_type": "markdown",
   "id": "56cf80bf",
   "metadata": {},
   "source": [
    "### Meu carro do sonho\n",
    "\n",
    "Vamos pedir para o usuário nos informar o nome do carro e o preço do carro dos sonhos deles."
   ]
  },
  {
   "cell_type": "code",
   "execution_count": 13,
   "id": "7d9330a4",
   "metadata": {},
   "outputs": [
    {
     "name": "stdout",
     "output_type": "stream",
     "text": [
      "o seu carro custa:12000000.0\n",
      "voce tem:2.0\n",
      "para voce conseguir seu carro falta:11999998.0\n",
      "seu carro:opala\n",
      "preço carro:12000000.0\n",
      "seu dinheiro atual:2.0\n",
      "quanto falta para realizar seu sonho:11999998.0\n"
     ]
    }
   ],
   "source": [
    "# 1º Primeiro peça ao usuário o nome do carro dos sonhos:\n",
    "nome_carro = input(\"Informe o nome do seu carro do sonho:\")\n",
    "# 2º Peça o preço do carro dos sonhos\n",
    "preço_carro = float(input(\"digite o preço\"))\n",
    "print(f\"o seu carro custa:{preço_carro}\")\n",
    "\n",
    "# 3º Pergunte quanto dinheiro o usuário tem e guarde o valor em uma variável\n",
    "dinheiro_usuario = float(input(\"quanto dinheiro voce tem agora\"))\n",
    "print(f\"voce tem:{dinheiro_usuario}\")\n",
    "\n",
    "\n",
    "# 4º Calcule quanto falta para o usuário conseguir comprar o carro\n",
    "print(f\"para voce conseguir seu carro falta:{preço_carro - dinheiro_usuario }\")\n",
    "\n",
    "\n",
    "# 5º Mostna tela o nome do carro o preço dele e quanto falta para o usuário realizar o sonho dele.\n",
    "print(f\"seu carro:{nome_carro}\")\n",
    "print(f\"preço carro:{preço_carro}\")\n",
    "print(f\"seu dinheiro atual:{dinheiro_usuario}\")\n",
    "print(f\"quanto falta para realizar seu sonho:{preço_carro - dinheiro_usuario}\")\n"
   ]
  },
  {
   "cell_type": "markdown",
   "id": "d28ba737",
   "metadata": {},
   "source": [
    "### Agenda de Celular\n",
    "\n",
    "Peça ao usuário que informe o nome dele e o número do telefone dele\n",
    "\n",
    "Depois mostre ao usuário print() com uma mensagem o nome dele e o número do telefone"
   ]
  },
  {
   "cell_type": "code",
   "execution_count": 18,
   "id": "3037f6bb",
   "metadata": {},
   "outputs": [
    {
     "ename": "SyntaxError",
     "evalue": "unterminated f-string literal (detected at line 3) (1927939771.py, line 3)",
     "output_type": "error",
     "traceback": [
      "  \u001b[36mCell\u001b[39m\u001b[36m \u001b[39m\u001b[32mIn[18]\u001b[39m\u001b[32m, line 3\u001b[39m\n\u001b[31m    \u001b[39m\u001b[31mprint(f\"seu nome:{nome_usuario}\u001b[39m\n          ^\n\u001b[31mSyntaxError\u001b[39m\u001b[31m:\u001b[39m unterminated f-string literal (detected at line 3)\n"
     ]
    }
   ],
   "source": [
    "#eciso pedir o nome do usuário\n",
    "nome_usuario = input(\"digete seu nome\")\n",
    "print(f\"seu nome:{nome_usuario}\n",
    "\n",
    "#preciso pedir o telefone\n",
    "\n",
    "# mostrar as informações\n",
    "\n",
    "\n"
   ]
  },
  {
   "cell_type": "markdown",
   "id": "3312349f",
   "metadata": {},
   "source": [
    "### Adivinha a idade\n",
    "\n",
    "preciso do ano do nascimento e o ano atual\n",
    "\n",
    "formula = ano_atual - ano_nascimento\n",
    "\n",
    "tipo da variavel int"
   ]
  },
  {
   "cell_type": "code",
   "execution_count": null,
   "id": "4d8cbcc1",
   "metadata": {},
   "outputs": [],
   "source": []
  }
 ],
 "metadata": {
  "kernelspec": {
   "display_name": "Python 3",
   "language": "python",
   "name": "python3"
  },
  "language_info": {
   "codemirror_mode": {
    "name": "ipython",
    "version": 3
   },
   "file_extension": ".py",
   "mimetype": "text/x-python",
   "name": "python",
   "nbconvert_exporter": "python",
   "pygments_lexer": "ipython3",
   "version": "3.13.2"
  }
 },
 "nbformat": 4,
 "nbformat_minor": 5
}
