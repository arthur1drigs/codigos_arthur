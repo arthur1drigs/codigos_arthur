{
 "cells": [
  {
   "cell_type": "code",
   "execution_count": null,
   "id": "ee05094c",
   "metadata": {},
   "outputs": [],
   "source": [
    "import pyautogui as aut\n",
    "\n",
    "#pressiono a tecla de atalho win + r \n",
    "aut.hotkey(\"win\" , \"r\")\n",
    "\n",
    "# escrever notepad\n",
    "aut.write(\"notepad\", interval=0.2)\n",
    "\n",
    "#espera 1 segundo\n",
    "aut.sleep(1)\n",
    "\n",
    "#aperta o enter\n",
    "aut.press(\"Enter\")\n",
    "\n",
    "aut.moveTo(179,261)\n",
    "\n",
    "\n",
    "aut.sleep(1)\n",
    "\n",
    "aut.write(\"pizza\" , interval =0.2)\n"
   ]
  },
  {
   "cell_type": "code",
   "execution_count": 4,
   "id": "0fe40ed1",
   "metadata": {},
   "outputs": [],
   "source": [
    "aut.mouseInfo()\n",
    "\n"
   ]
  },
  {
   "cell_type": "code",
   "execution_count": 86,
   "id": "26246ca2",
   "metadata": {},
   "outputs": [],
   "source": [
    "aut.moveTo(1171,1054)\n",
    "\n",
    "aut.click()\n",
    "\n",
    "aut.sleep(1)\n",
    "\n",
    "aut.moveTo(1364,423)\n",
    "\n",
    "aut.write(\"youtube\")\n",
    "aut.sleep(3)\n",
    "\n",
    "\n",
    "aut.click()\n",
    "\n",
    "aut.moveTo(1130,418)\n",
    "\n",
    "aut.sleep(3)\n",
    "\n",
    "aut.moveTo(1367,472)"
   ]
  },
  {
   "cell_type": "code",
   "execution_count": null,
   "id": "9f752fa0",
   "metadata": {},
   "outputs": [],
   "source": [
    "import pyautogui as aut\n",
    "\n",
    "aut.hotkey(\"win\" , \"r\")\n",
    "\n",
    "\n",
    "aut.write(\"Calc.exe\", interval=0.2)\n",
    "\n",
    "\n",
    "aut.sleep(1)\n",
    "\n",
    "aut.press(\"Enter\")\n",
    "\n",
    "aut.sleep(3)\n",
    "\n",
    "aut.moveTo(1307,502)\n",
    "\n",
    "aut.click()\n",
    "\n",
    "aut.sleep(2)\n",
    "\n",
    "aut.moveTo(1549,541)\n",
    "\n",
    "aut.click()\n",
    "\n",
    "aut.sleep(2)\n",
    "\n",
    "aut.moveTo(1328,453)\n",
    "\n",
    "aut.click()\n",
    "\n",
    "aut.sleep(2)\n",
    "\n",
    "aut.moveTo(1565,610)\n",
    "\n",
    "aut.click()\n",
    "\n"
   ]
  },
  {
   "cell_type": "code",
   "execution_count": null,
   "id": "0936bc6e",
   "metadata": {},
   "outputs": [
    {
     "data": {
      "text/plain": [
       "<function pyautogui.mouseDown(x=None, y=None, button='primary', duration=0.0, tween=<function linear at 0x000001F0B014FB00>, logScreenshot=None, _pause=True)>"
      ]
     },
     "execution_count": 2,
     "metadata": {},
     "output_type": "execute_result"
    }
   ],
   "source": [
    "import pyautogui as aut\n",
    "\n",
    "aut.press(\"win\")\n",
    "\n",
    "\n",
    "aut.write(\"paint\", interval=0.2)\n",
    "\n",
    "aut.press(\"Enter\")\n",
    "\n",
    "aut.sleep(1)\n",
    "\n",
    "aut.moveTo(715,186)\n",
    "aut.click\n",
    "aut.mouseDown()"
   ]
  },
  {
   "cell_type": "code",
   "execution_count": 3,
   "id": "c44e01e1",
   "metadata": {},
   "outputs": [],
   "source": [
    "aut.mouseInfo()"
   ]
  }
 ],
 "metadata": {
  "kernelspec": {
   "display_name": "Python 3",
   "language": "python",
   "name": "python3"
  },
  "language_info": {
   "codemirror_mode": {
    "name": "ipython",
    "version": 3
   },
   "file_extension": ".py",
   "mimetype": "text/x-python",
   "name": "python",
   "nbconvert_exporter": "python",
   "pygments_lexer": "ipython3",
   "version": "3.13.2"
  }
 },
 "nbformat": 4,
 "nbformat_minor": 5
}
